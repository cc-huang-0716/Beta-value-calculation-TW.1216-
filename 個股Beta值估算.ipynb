{
  "nbformat": 4,
  "nbformat_minor": 0,
  "metadata": {
    "colab": {
      "provenance": [],
      "authorship_tag": "ABX9TyO4xG07C4wdQ1CywF6knBCB",
      "include_colab_link": true
    },
    "kernelspec": {
      "name": "python3",
      "display_name": "Python 3"
    },
    "language_info": {
      "name": "python"
    }
  },
  "cells": [
    {
      "cell_type": "markdown",
      "metadata": {
        "id": "view-in-github",
        "colab_type": "text"
      },
      "source": [
        "<a href=\"https://colab.research.google.com/github/cc-huang-0716/Beta-value-calculation-TW.1216-/blob/main/%E5%80%8B%E8%82%A1Beta%E5%80%BC%E4%BC%B0%E7%AE%97.ipynb\" target=\"_parent\"><img src=\"https://colab.research.google.com/assets/colab-badge.svg\" alt=\"Open In Colab\"/></a>"
      ]
    },
    {
      "cell_type": "code",
      "execution_count": null,
      "metadata": {
        "colab": {
          "base_uri": "https://localhost:8080/"
        },
        "id": "26cVI9o-LL22",
        "outputId": "58891eb5-8627-47f6-91b4-61c46dd8f526"
      },
      "outputs": [
        {
          "output_type": "stream",
          "name": "stdout",
          "text": [
            "2024年收盤價均數為: Stock_Close    80.90992\n",
            "dtype: float64\n",
            "                         日期  Stock_Close  Market_Close\n",
            "0 2024-03-06 00:00:00+08:00    73.764603  19499.449219\n",
            "1 2024-03-07 00:00:00+08:00    74.053879  19693.519531\n",
            "2 2024-03-08 00:00:00+08:00    72.993202  19785.320312\n",
            "3 2024-03-11 00:00:00+08:00    73.861023  19726.080078\n",
            "4 2024-03-12 00:00:00+08:00    73.861023  19914.550781\n",
            "Beta 值（共變異數法）: 0.2523006800690231\n"
          ]
        }
      ],
      "source": [
        "import pandas as pd\n",
        "import yfinance as yf\n",
        "import numpy as np\n",
        "import matplotlib.pyplot as plt\n",
        "from scipy.stats import linregress\n",
        "\n",
        "# 爬蟲抓數據\n",
        "# 統一爬蟲\n",
        "stock = yf.Ticker(\"1216.TW\")\n",
        "stock_data = stock.history(period=\"1y\")\n",
        "stock_data = stock_data[['Close']].reset_index()\n",
        "stock_data.rename(columns={'Close': 'Stock_Close', 'Date': '日期'}, inplace=True)\n",
        "\n",
        "# 計算收盤價均值\n",
        "mean_closing_price = stock_data[['Stock_Close']].mean()\n",
        "print(\"2024年收盤價均數為:\", mean_closing_price)\n",
        "\n",
        "# 台灣加權指數爬蟲\n",
        "market = yf.Ticker(\"^TWII\")\n",
        "market_data = market.history(period=\"1y\")\n",
        "market_data = market_data[['Close']].reset_index()\n",
        "market_data.rename(columns={'Close': 'Market_Close', 'Date': '日期'}, inplace=True)\n",
        "\n",
        "# 合併數據\n",
        "data = pd.merge(stock_data, market_data, on='日期')\n",
        "\n",
        "# 儲存為 CSV\n",
        "data.to_csv(\"葡萄王與台灣加權指數.csv\", index=False)\n",
        "print(data.head())\n",
        "\n",
        "# 計算每日收益率\n",
        "data['收益率_stock'] = data['Stock_Close'].pct_change()\n",
        "data['收益率_market'] = data['Market_Close'].pct_change()\n",
        "\n",
        "# 刪除空值\n",
        "data = data.dropna()\n",
        "\n",
        "# 計算 Beta 值\n",
        "cov_matrix = np.cov(data['收益率_stock'], data['收益率_market'])\n",
        "beta = cov_matrix[0, 1] / cov_matrix[1, 1]\n",
        "\n",
        "# 使用線性回歸檢查\n",
        "slope, intercept, r_value, p_value, std_err = linregress(data['收益率_market'], data['收益率_stock'])\n",
        "\n",
        "# 輸出結果\n",
        "print(f\"Beta 值（共變異數法）: {beta}\")\n",
        "\n"
      ]
    }
  ]
}